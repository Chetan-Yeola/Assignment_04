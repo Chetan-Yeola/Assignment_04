{
 "cells": [
  {
   "cell_type": "markdown",
   "metadata": {},
   "source": [
    "Problem_1.1-: Write a Python Program(with class concepts) to find the area of the triangle using the below formula.\n",
    "area = (s(s-a)(s-b)*(s-c)) ** 0.5\n",
    "Function to take the length of the sides of triangle from user should be defined in the parent class and function to calculate the area should be defined in subclass."
   ]
  },
  {
   "cell_type": "code",
   "execution_count": 2,
   "metadata": {},
   "outputs": [],
   "source": [
    "class Triangle:\n",
    "    def __init__(self):\n",
    "        number_of_sides=['a','b','c']\n",
    "        self.TriangleSides=number_of_sides\n",
    "        \n",
    "    def sides_of_triangle(self):\n",
    "        self.sides_of_triangle=[input(\"Enter the side \"+i+\" :\")for i in self.TriangleSides]\n",
    "\n",
    "class Traingle_Area(Triangle):\n",
    "    def __init__(self):\n",
    "        Triangle.__init__(self)\n",
    "            \n",
    "    def area_of_traingle(self):\n",
    "        traingleSides=iter(self.sides_of_triangle)\n",
    "        a=float(next(traingleSides))\n",
    "        b=float(next(traingleSides))\n",
    "        c=float(next(traingleSides))\n",
    "        \n",
    "        s= (a+b+c)*0.5                 \n",
    "        Area = (s*(s-a)*(s-b)*(s-c))**0.5    \n",
    "        print(\"The sides of triangle are a=\"+str(a)+\", b=\"+str(b)+\", c=\"+str(c))     \n",
    "        Area = ('The Area of the triangle is %0.2f' %Area )\n",
    "        print(Area)  \n",
    "      "
   ]
  },
  {
   "cell_type": "code",
   "execution_count": 4,
   "metadata": {},
   "outputs": [],
   "source": [
    "area_of_traingle = Traingle_Area()"
   ]
  },
  {
   "cell_type": "code",
   "execution_count": 7,
   "metadata": {},
   "outputs": [
    {
     "name": "stdout",
     "output_type": "stream",
     "text": [
      "Enter the side a :3\n",
      "Enter the side b :4\n",
      "Enter the side c :5\n"
     ]
    }
   ],
   "source": [
    "area_of_traingle.sides_of_triangle()"
   ]
  },
  {
   "cell_type": "code",
   "execution_count": 8,
   "metadata": {},
   "outputs": [
    {
     "name": "stdout",
     "output_type": "stream",
     "text": [
      "The sides of triangle are a=3.0, b=4.0, c=5.0\n",
      "The Area of the triangle is 6.00\n"
     ]
    }
   ],
   "source": [
    "area_of_traingle.area_of_traingle()"
   ]
  },
  {
   "cell_type": "markdown",
   "metadata": {},
   "source": [
    "Problem_1.2-: Write a function filter_long_words() that takes a list of words and an integer n and returns the list of words that are longer than n"
   ]
  },
  {
   "cell_type": "code",
   "execution_count": null,
   "metadata": {},
   "outputs": [],
   "source": [
    "def filter_long_words(WordList,n):\n",
    "    ''' This function returns list of words are longer than Argument n . \n",
    "    Note : n has been considerd has an integer'''\n",
    "    \n",
    "    #List Comprehensions\n",
    "    Wordlist=[x.strip() for x in WordList if len(x.strip())>n]\n",
    "    \n",
    "    if(len(Wordlist)>0):\n",
    "        print(\"\\n Output:\")\n",
    "        print(\"\\n The List of longest words , which  are longer than \"+str(n)+\" is :\")\n",
    "        return Wordlist\n",
    "    else:\n",
    "        return \"No Words longer than specified number \"+str(n)\n",
    "    \n",
    "#Ask user's Input\n",
    "print(\"Input:\")\n",
    "string= input(\"Please enter your words: \")\n",
    "number= int(input(\"Please enter your number: \"))\n",
    "\n",
    "# Split the words by \",\" comma and convert into list\n",
    "list_Of_Words = list(string.split(\",\"))\n",
    "#Function Execution\n",
    "filter_long_words(list_Of_Words,number)"
   ]
  },
  {
   "cell_type": "markdown",
   "metadata": {},
   "source": [
    "Problem_2.1 Write a Python program using function concept that maps list of words into a list of integers representing the lengths of the corresponding words . Hint: If a list [ ab,cde,erty] is passed on to the python function output should come as [2,3,4] Here 2,3 and 4 are the lengths of the words in the list."
   ]
  },
  {
   "cell_type": "code",
   "execution_count": 10,
   "metadata": {},
   "outputs": [
    {
     "name": "stdout",
     "output_type": "stream",
     "text": [
      "Input : Please enter Words : chetan, india, Sachin\n",
      "Output: Length of Words are : [6, 5, 6]\n"
     ]
    }
   ],
   "source": [
    "def map_Words_to_Length(List):\n",
    "    \n",
    "    return list(map(len, List))\n",
    "\n",
    "word_List=list(input(\"Input : Please enter Words : \").split(\",\"))\n",
    "\n",
    "List=[x.strip() for x in word_List]\n",
    "\n",
    "Words_lengths=map_Words_to_Length(List)\n",
    "\n",
    "print(\"Output: Length of Words are :\",Words_lengths )"
   ]
  },
  {
   "cell_type": "markdown",
   "metadata": {},
   "source": [
    "Problem_2.2 Write a Python function which takes a character (i.e. a string of length 1) and returns True if it is a vowel, False otherwise."
   ]
  },
  {
   "cell_type": "code",
   "execution_count": 12,
   "metadata": {},
   "outputs": [
    {
     "name": "stdout",
     "output_type": "stream",
     "text": [
      "Enter character to check that it is Vowel or not\n",
      "Input Value: C\n",
      "Output Value: False\n"
     ]
    }
   ],
   "source": [
    "def vowel_checker(inputChar):\n",
    "    return_value=''\n",
    "    if(len(inputChar)==1):\n",
    "        vowel_list=['a','e','i','o','u']\n",
    "        if (inputChar.lower() in vowel_list):\n",
    "            return_value= True\n",
    "        else:\n",
    "            return_value= False\n",
    "    else:\n",
    "        return_value=\"Please enter single character only!\"        \n",
    "    return return_value\n",
    "\n",
    "print(\"Enter character to check that it is Vowel or not\")\n",
    "input_value = input(\"Input Value: \")\n",
    "#Function Execution\n",
    "output_value=vowel_checker(input_value) \n",
    "#Output\n",
    "print(\"Output Value:\",output_value)"
   ]
  },
  {
   "cell_type": "code",
   "execution_count": null,
   "metadata": {},
   "outputs": [],
   "source": []
  }
 ],
 "metadata": {
  "kernelspec": {
   "display_name": "Python 3",
   "language": "python",
   "name": "python3"
  },
  "language_info": {
   "codemirror_mode": {
    "name": "ipython",
    "version": 3
   },
   "file_extension": ".py",
   "mimetype": "text/x-python",
   "name": "python",
   "nbconvert_exporter": "python",
   "pygments_lexer": "ipython3",
   "version": "3.8.3"
  }
 },
 "nbformat": 4,
 "nbformat_minor": 4
}
